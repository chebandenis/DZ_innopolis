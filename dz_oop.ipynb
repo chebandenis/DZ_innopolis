{
 "cells": [
  {
   "cell_type": "markdown",
   "metadata": {},
   "source": [
    "Задача 2.\n",
    "\n",
    "Опишите класс для векторов в N-мерном пространстве. В качестве основы используйте список значений координат вектора, задаваемый `list`.Обеспечьте поддержку следующих операций:\n",
    "- сложение,\n",
    "- вычитание(с созданием нового вектора-результата),\n",
    "- скалярное произведение,\n",
    "- косинус угла, \n",
    "- евклидова норма.\n",
    "Все операции, которые можно перегрузить с помощью агических методов, должны быть реализованы именно через них.Класс должен производить проверку консистентности аргументов для каждой операции и в случаях ошибок выбрасывать исключение `ValueError`с исчерпывающим объяснением ошибки.\n"
   ]
  },
  {
   "cell_type": "code",
   "execution_count": 104,
   "metadata": {},
   "outputs": [],
   "source": [
    "\n",
    "class Vector:\n",
    "    def __init__(self, value):\n",
    "        self.value = value\n",
    "\n",
    "    def add(self, y):\n",
    "        try:\n",
    "            if len(self.value) == len(y):\n",
    "                summary = []\n",
    "                for i in range(len(y)):\n",
    "                    summary.append(self.value[i]+y[i])\n",
    "                return summary\n",
    "            else:\n",
    "                print('ошибка,  вектора должны быть одинаковой размерности')\n",
    "        except:\n",
    "            print('операнд должен быть списком')\n",
    "    \n",
    "    def diff(self, y):\n",
    "        try:\n",
    "            if len(self.value) == len(y):\n",
    "                summary = []\n",
    "                for i in range(len(y)):\n",
    "                    summary.append(self.value[i]-y[i])\n",
    "                return summary\n",
    "            else:\n",
    "                print('ошибка,  вектора должны быть одинаковой размерности')\n",
    "        except:\n",
    "            print('операнд должен быть списком')\n",
    "\n",
    "   \n",
    "    def scal_prod(self, y):\n",
    "        try:\n",
    "            if len(self.value) == len(y):\n",
    "                summary = 0\n",
    "                for i in range(len(y)):\n",
    "                    summary += self.value[i]*y[i]\n",
    "                return summary\n",
    "            else:\n",
    "                print('ошибка,  вектора должны быть одинаковой размерности')\n",
    "        except:\n",
    "            print('операнд должен быть списком')\n",
    "\n",
    "    \n",
    "    def norm(self):\n",
    "        try:\n",
    "            \n",
    "            summary = 0\n",
    "            for i in range(len(self.value)):\n",
    "                summary += (self.value[i])**2\n",
    "            return summary**(1/2)\n",
    "            \n",
    "                \n",
    "        except:\n",
    "            print('операнд должен быть списком')\n",
    "    \n",
    "    def cos_alpha(self, y):\n",
    "        try:\n",
    "            if len(self.value) == len(y):\n",
    "                scal_pr = 0\n",
    "                for i in range(len(y)):\n",
    "                    scal_pr += self.value[i]*y[i]\n",
    "                print (scal_pr)  \n",
    "            else:\n",
    "                print('ошибка, вектора должны быть одинаковой размерности')\n",
    "            summary_a = 0\n",
    "            for i in range(len(self.value)):\n",
    "                summary_a += (self.value[i])**2\n",
    "            summary_a = summary_a**(1/2)\n",
    "            print(summary_a)\n",
    "            summary_b=0\n",
    "            for i in range(len(y)):\n",
    "                summary_b += (y[i])**2\n",
    "            summary_b = summary_b**(1/2)\n",
    "            print(summary_b)\n",
    "            return scal_pr/(summary_a * summary_b)\n",
    "        except:\n",
    "            print('операнд должен быть списком')\n",
    "\n",
    "    "
   ]
  },
  {
   "cell_type": "code",
   "execution_count": 106,
   "metadata": {},
   "outputs": [
    {
     "name": "stdout",
     "output_type": "stream",
     "text": [
      "[0, 5, -4]\n",
      "[2, 9, 8]\n",
      "10\n",
      "7.3484692283495345\n",
      "24\n",
      "7.3484692283495345\n",
      "3.3166247903554\n",
      "0.9847319278346618\n"
     ]
    }
   ],
   "source": [
    "v = Vector([1, 7, 2])\n",
    "print(v.diff([1,2,6]))\n",
    "print(v.add([1,2,6]))\n",
    "print(v.scal_prod([1,1,1]))\n",
    "print(v.norm())\n",
    "print(v.cos_alpha([1,3,1]))"
   ]
  }
 ],
 "metadata": {
  "kernelspec": {
   "display_name": "venv",
   "language": "python",
   "name": "python3"
  },
  "language_info": {
   "codemirror_mode": {
    "name": "ipython",
    "version": 3
   },
   "file_extension": ".py",
   "mimetype": "text/x-python",
   "name": "python",
   "nbconvert_exporter": "python",
   "pygments_lexer": "ipython3",
   "version": "3.8.9"
  }
 },
 "nbformat": 4,
 "nbformat_minor": 2
}
