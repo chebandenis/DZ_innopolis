{
 "cells": [
  {
   "cell_type": "markdown",
   "metadata": {},
   "source": [
    "Задача 1 Фильтрация данных\n",
    "\n",
    "Объявите функцию, которая принимает строку (в качестве аргумента) и возвращает False, если длина строки меньше трех символов.Иначе возвращается значение True. После объявления функции прочитайте (спомощью функции input) список названий городов,записанных в одну строку через пробел. Затем, используя генератор списка и созданную функцию,сформируйте список из названий городов длиной не менее трех символов на основе введенного исходного списка. Результат отобразите на экране"
   ]
  },
  {
   "cell_type": "code",
   "execution_count": 29,
   "metadata": {},
   "outputs": [
    {
     "name": "stdout",
     "output_type": "stream",
     "text": [
      "['fghj']\n"
     ]
    }
   ],
   "source": [
    "cities = input(\"Введите название городов через пробел: \").split()\n",
    "cities = [city for city in cities if lambda x: True if len(city)>3] \n",
    "print(cities)\n"
   ]
  },
  {
   "cell_type": "markdown",
   "metadata": {},
   "source": [
    "Задача 2 Вложенные функции\n",
    "\n",
    "Напишите программу, которая выполняет следующие действия:\n",
    "\n",
    "1.Определите функцию get_list, которая принимает строку из целых чисел, разделенных пробелами, и возвращает список из этих чисел.\n",
    "2.Создайте функцию sort_func, которая:\n",
    "    a.Принимает функцию как аргумент \n",
    "    b.Вызывает переданную функциюc. \n",
    "    c.Сортирует результат работы функции по возрастанию\n",
    "    d.Возвращает отсортированный результат\n",
    "3.Используйте вызов функций get_list и sort_decorator, чтобы вывести результат на экран\n"
   ]
  },
  {
   "cell_type": "code",
   "execution_count": 23,
   "metadata": {},
   "outputs": [],
   "source": [
    "def get_list(string):\n",
    "    return list(map(lambda x: int(x), string.split()))"
   ]
  },
  {
   "cell_type": "code",
   "execution_count": 25,
   "metadata": {},
   "outputs": [],
   "source": [
    "def sort_func(l):\n",
    "    return sorted(l)"
   ]
  },
  {
   "cell_type": "code",
   "execution_count": 28,
   "metadata": {},
   "outputs": [
    {
     "name": "stdout",
     "output_type": "stream",
     "text": [
      "[1, 2, 4]\n"
     ]
    }
   ],
   "source": [
    "print(sort_func(get_list('1 4 2')))"
   ]
  },
  {
   "cell_type": "markdown",
   "metadata": {},
   "source": [
    "Задача 3 Перестановки строк\n",
    "\n",
    "Решить следующее задание с применением библиотеки itertools. Написать функцию, принимающую строку s и число n и возвращающую все возможные перестановки из n символовв s строке в лексикографическом порядке (использовать itertools.permutations)"
   ]
  },
  {
   "cell_type": "code",
   "execution_count": 46,
   "metadata": {},
   "outputs": [],
   "source": [
    "from itertools import permutations\n",
    "\n",
    "\n",
    "def string_perm (s='anystring', n=4):\n",
    "    return sorted([''.join(substring) for substring in permutations(s,n) ])"
   ]
  },
  {
   "cell_type": "code",
   "execution_count": 47,
   "metadata": {},
   "outputs": [
    {
     "name": "stdout",
     "output_type": "stream",
     "text": [
      "['agin', 'agin', 'agir', 'agis', 'agit', 'agiy', 'agni', 'agni', 'agnn', 'agnn', 'agnr', 'agnr', 'agns', 'agns', 'agnt', 'agnt', 'agny', 'agny', 'agri', 'agrn', 'agrn', 'agrs', 'agrt', 'agry', 'agsi', 'agsn', 'agsn', 'agsr', 'agst', 'agsy', 'agti', 'agtn', 'agtn', 'agtr', 'agts', 'agty', 'agyi', 'agyn', 'agyn', 'agyr', 'agys', 'agyt', 'aign', 'aign', 'aigr', 'aigs', 'aigt', 'aigy', 'aing', 'aing', 'ainn', 'ainn', 'ainr', 'ainr', 'ains', 'ains', 'aint', 'aint', 'ainy', 'ainy', 'airg', 'airn', 'airn', 'airs', 'airt', 'airy', 'aisg', 'aisn', 'aisn', 'aisr', 'aist', 'aisy', 'aitg', 'aitn', 'aitn', 'aitr', 'aits', 'aity', 'aiyg', 'aiyn', 'aiyn', 'aiyr', 'aiys', 'aiyt', 'angi', 'angi', 'angn', 'angn', 'angr', 'angr', 'angs', 'angs', 'angt', 'angt', 'angy', 'angy', 'anig', 'anig', 'anin', 'anin', 'anir', 'anir', 'anis', 'anis', 'anit', 'anit', 'aniy', 'aniy', 'anng', 'anng', 'anni', 'anni', 'annr', 'annr', 'anns', 'anns', 'annt', 'annt', 'anny', 'anny', 'anrg', 'anrg', 'anri', 'anri', 'anrn', 'anrn', 'anrs', 'anrs', 'anrt', 'anrt', 'anry', 'anry', 'ansg', 'ansg', 'ansi', 'ansi', 'ansn', 'ansn', 'ansr', 'ansr', 'anst', 'anst', 'ansy', 'ansy', 'antg', 'antg', 'anti', 'anti', 'antn', 'antn', 'antr', 'antr', 'ants', 'ants', 'anty', 'anty', 'anyg', 'anyg', 'anyi', 'anyi', 'anyn', 'anyn', 'anyr', 'anyr', 'anys', 'anys', 'anyt', 'anyt', 'argi', 'argn', 'argn', 'args', 'argt', 'argy', 'arig', 'arin', 'arin', 'aris', 'arit', 'ariy', 'arng', 'arng', 'arni', 'arni', 'arnn', 'arnn', 'arns', 'arns', 'arnt', 'arnt', 'arny', 'arny', 'arsg', 'arsi', 'arsn', 'arsn', 'arst', 'arsy', 'artg', 'arti', 'artn', 'artn', 'arts', 'arty', 'aryg', 'aryi', 'aryn', 'aryn', 'arys', 'aryt', 'asgi', 'asgn', 'asgn', 'asgr', 'asgt', 'asgy', 'asig', 'asin', 'asin', 'asir', 'asit', 'asiy', 'asng', 'asng', 'asni', 'asni', 'asnn', 'asnn', 'asnr', 'asnr', 'asnt', 'asnt', 'asny', 'asny', 'asrg', 'asri', 'asrn', 'asrn', 'asrt', 'asry', 'astg', 'asti', 'astn', 'astn', 'astr', 'asty', 'asyg', 'asyi', 'asyn', 'asyn', 'asyr', 'asyt', 'atgi', 'atgn', 'atgn', 'atgr', 'atgs', 'atgy', 'atig', 'atin', 'atin', 'atir', 'atis', 'atiy', 'atng', 'atng', 'atni', 'atni', 'atnn', 'atnn', 'atnr', 'atnr', 'atns', 'atns', 'atny', 'atny', 'atrg', 'atri', 'atrn', 'atrn', 'atrs', 'atry', 'atsg', 'atsi', 'atsn', 'atsn', 'atsr', 'atsy', 'atyg', 'atyi', 'atyn', 'atyn', 'atyr', 'atys', 'aygi', 'aygn', 'aygn', 'aygr', 'aygs', 'aygt', 'ayig', 'ayin', 'ayin', 'ayir', 'ayis', 'ayit', 'ayng', 'ayng', 'ayni', 'ayni', 'aynn', 'aynn', 'aynr', 'aynr', 'ayns', 'ayns', 'aynt', 'aynt', 'ayrg', 'ayri', 'ayrn', 'ayrn', 'ayrs', 'ayrt', 'aysg', 'aysi', 'aysn', 'aysn', 'aysr', 'ayst', 'aytg', 'ayti', 'aytn', 'aytn', 'aytr', 'ayts', 'gain', 'gain', 'gair', 'gais', 'gait', 'gaiy', 'gani', 'gani', 'gann', 'gann', 'ganr', 'ganr', 'gans', 'gans', 'gant', 'gant', 'gany', 'gany', 'gari', 'garn', 'garn', 'gars', 'gart', 'gary', 'gasi', 'gasn', 'gasn', 'gasr', 'gast', 'gasy', 'gati', 'gatn', 'gatn', 'gatr', 'gats', 'gaty', 'gayi', 'gayn', 'gayn', 'gayr', 'gays', 'gayt', 'gian', 'gian', 'giar', 'gias', 'giat', 'giay', 'gina', 'gina', 'ginn', 'ginn', 'ginr', 'ginr', 'gins', 'gins', 'gint', 'gint', 'giny', 'giny', 'gira', 'girn', 'girn', 'girs', 'girt', 'giry', 'gisa', 'gisn', 'gisn', 'gisr', 'gist', 'gisy', 'gita', 'gitn', 'gitn', 'gitr', 'gits', 'gity', 'giya', 'giyn', 'giyn', 'giyr', 'giys', 'giyt', 'gnai', 'gnai', 'gnan', 'gnan', 'gnar', 'gnar', 'gnas', 'gnas', 'gnat', 'gnat', 'gnay', 'gnay', 'gnia', 'gnia', 'gnin', 'gnin', 'gnir', 'gnir', 'gnis', 'gnis', 'gnit', 'gnit', 'gniy', 'gniy', 'gnna', 'gnna', 'gnni', 'gnni', 'gnnr', 'gnnr', 'gnns', 'gnns', 'gnnt', 'gnnt', 'gnny', 'gnny', 'gnra', 'gnra', 'gnri', 'gnri', 'gnrn', 'gnrn', 'gnrs', 'gnrs', 'gnrt', 'gnrt', 'gnry', 'gnry', 'gnsa', 'gnsa', 'gnsi', 'gnsi', 'gnsn', 'gnsn', 'gnsr', 'gnsr', 'gnst', 'gnst', 'gnsy', 'gnsy', 'gnta', 'gnta', 'gnti', 'gnti', 'gntn', 'gntn', 'gntr', 'gntr', 'gnts', 'gnts', 'gnty', 'gnty', 'gnya', 'gnya', 'gnyi', 'gnyi', 'gnyn', 'gnyn', 'gnyr', 'gnyr', 'gnys', 'gnys', 'gnyt', 'gnyt', 'grai', 'gran', 'gran', 'gras', 'grat', 'gray', 'gria', 'grin', 'grin', 'gris', 'grit', 'griy', 'grna', 'grna', 'grni', 'grni', 'grnn', 'grnn', 'grns', 'grns', 'grnt', 'grnt', 'grny', 'grny', 'grsa', 'grsi', 'grsn', 'grsn', 'grst', 'grsy', 'grta', 'grti', 'grtn', 'grtn', 'grts', 'grty', 'grya', 'gryi', 'gryn', 'gryn', 'grys', 'gryt', 'gsai', 'gsan', 'gsan', 'gsar', 'gsat', 'gsay', 'gsia', 'gsin', 'gsin', 'gsir', 'gsit', 'gsiy', 'gsna', 'gsna', 'gsni', 'gsni', 'gsnn', 'gsnn', 'gsnr', 'gsnr', 'gsnt', 'gsnt', 'gsny', 'gsny', 'gsra', 'gsri', 'gsrn', 'gsrn', 'gsrt', 'gsry', 'gsta', 'gsti', 'gstn', 'gstn', 'gstr', 'gsty', 'gsya', 'gsyi', 'gsyn', 'gsyn', 'gsyr', 'gsyt', 'gtai', 'gtan', 'gtan', 'gtar', 'gtas', 'gtay', 'gtia', 'gtin', 'gtin', 'gtir', 'gtis', 'gtiy', 'gtna', 'gtna', 'gtni', 'gtni', 'gtnn', 'gtnn', 'gtnr', 'gtnr', 'gtns', 'gtns', 'gtny', 'gtny', 'gtra', 'gtri', 'gtrn', 'gtrn', 'gtrs', 'gtry', 'gtsa', 'gtsi', 'gtsn', 'gtsn', 'gtsr', 'gtsy', 'gtya', 'gtyi', 'gtyn', 'gtyn', 'gtyr', 'gtys', 'gyai', 'gyan', 'gyan', 'gyar', 'gyas', 'gyat', 'gyia', 'gyin', 'gyin', 'gyir', 'gyis', 'gyit', 'gyna', 'gyna', 'gyni', 'gyni', 'gynn', 'gynn', 'gynr', 'gynr', 'gyns', 'gyns', 'gynt', 'gynt', 'gyra', 'gyri', 'gyrn', 'gyrn', 'gyrs', 'gyrt', 'gysa', 'gysi', 'gysn', 'gysn', 'gysr', 'gyst', 'gyta', 'gyti', 'gytn', 'gytn', 'gytr', 'gyts', 'iagn', 'iagn', 'iagr', 'iags', 'iagt', 'iagy', 'iang', 'iang', 'iann', 'iann', 'ianr', 'ianr', 'ians', 'ians', 'iant', 'iant', 'iany', 'iany', 'iarg', 'iarn', 'iarn', 'iars', 'iart', 'iary', 'iasg', 'iasn', 'iasn', 'iasr', 'iast', 'iasy', 'iatg', 'iatn', 'iatn', 'iatr', 'iats', 'iaty', 'iayg', 'iayn', 'iayn', 'iayr', 'iays', 'iayt', 'igan', 'igan', 'igar', 'igas', 'igat', 'igay', 'igna', 'igna', 'ignn', 'ignn', 'ignr', 'ignr', 'igns', 'igns', 'ignt', 'ignt', 'igny', 'igny', 'igra', 'igrn', 'igrn', 'igrs', 'igrt', 'igry', 'igsa', 'igsn', 'igsn', 'igsr', 'igst', 'igsy', 'igta', 'igtn', 'igtn', 'igtr', 'igts', 'igty', 'igya', 'igyn', 'igyn', 'igyr', 'igys', 'igyt', 'inag', 'inag', 'inan', 'inan', 'inar', 'inar', 'inas', 'inas', 'inat', 'inat', 'inay', 'inay', 'inga', 'inga', 'ingn', 'ingn', 'ingr', 'ingr', 'ings', 'ings', 'ingt', 'ingt', 'ingy', 'ingy', 'inna', 'inna', 'inng', 'inng', 'innr', 'innr', 'inns', 'inns', 'innt', 'innt', 'inny', 'inny', 'inra', 'inra', 'inrg', 'inrg', 'inrn', 'inrn', 'inrs', 'inrs', 'inrt', 'inrt', 'inry', 'inry', 'insa', 'insa', 'insg', 'insg', 'insn', 'insn', 'insr', 'insr', 'inst', 'inst', 'insy', 'insy', 'inta', 'inta', 'intg', 'intg', 'intn', 'intn', 'intr', 'intr', 'ints', 'ints', 'inty', 'inty', 'inya', 'inya', 'inyg', 'inyg', 'inyn', 'inyn', 'inyr', 'inyr', 'inys', 'inys', 'inyt', 'inyt', 'irag', 'iran', 'iran', 'iras', 'irat', 'iray', 'irga', 'irgn', 'irgn', 'irgs', 'irgt', 'irgy', 'irna', 'irna', 'irng', 'irng', 'irnn', 'irnn', 'irns', 'irns', 'irnt', 'irnt', 'irny', 'irny', 'irsa', 'irsg', 'irsn', 'irsn', 'irst', 'irsy', 'irta', 'irtg', 'irtn', 'irtn', 'irts', 'irty', 'irya', 'iryg', 'iryn', 'iryn', 'irys', 'iryt', 'isag', 'isan', 'isan', 'isar', 'isat', 'isay', 'isga', 'isgn', 'isgn', 'isgr', 'isgt', 'isgy', 'isna', 'isna', 'isng', 'isng', 'isnn', 'isnn', 'isnr', 'isnr', 'isnt', 'isnt', 'isny', 'isny', 'isra', 'isrg', 'isrn', 'isrn', 'isrt', 'isry', 'ista', 'istg', 'istn', 'istn', 'istr', 'isty', 'isya', 'isyg', 'isyn', 'isyn', 'isyr', 'isyt', 'itag', 'itan', 'itan', 'itar', 'itas', 'itay', 'itga', 'itgn', 'itgn', 'itgr', 'itgs', 'itgy', 'itna', 'itna', 'itng', 'itng', 'itnn', 'itnn', 'itnr', 'itnr', 'itns', 'itns', 'itny', 'itny', 'itra', 'itrg', 'itrn', 'itrn', 'itrs', 'itry', 'itsa', 'itsg', 'itsn', 'itsn', 'itsr', 'itsy', 'itya', 'ityg', 'ityn', 'ityn', 'ityr', 'itys', 'iyag', 'iyan', 'iyan', 'iyar', 'iyas', 'iyat', 'iyga', 'iygn', 'iygn', 'iygr', 'iygs', 'iygt', 'iyna', 'iyna', 'iyng', 'iyng', 'iynn', 'iynn', 'iynr', 'iynr', 'iyns', 'iyns', 'iynt', 'iynt', 'iyra', 'iyrg', 'iyrn', 'iyrn', 'iyrs', 'iyrt', 'iysa', 'iysg', 'iysn', 'iysn', 'iysr', 'iyst', 'iyta', 'iytg', 'iytn', 'iytn', 'iytr', 'iyts', 'nagi', 'nagi', 'nagn', 'nagn', 'nagr', 'nagr', 'nags', 'nags', 'nagt', 'nagt', 'nagy', 'nagy', 'naig', 'naig', 'nain', 'nain', 'nair', 'nair', 'nais', 'nais', 'nait', 'nait', 'naiy', 'naiy', 'nang', 'nang', 'nani', 'nani', 'nanr', 'nanr', 'nans', 'nans', 'nant', 'nant', 'nany', 'nany', 'narg', 'narg', 'nari', 'nari', 'narn', 'narn', 'nars', 'nars', 'nart', 'nart', 'nary', 'nary', 'nasg', 'nasg', 'nasi', 'nasi', 'nasn', 'nasn', 'nasr', 'nasr', 'nast', 'nast', 'nasy', 'nasy', 'natg', 'natg', 'nati', 'nati', 'natn', 'natn', 'natr', 'natr', 'nats', 'nats', 'naty', 'naty', 'nayg', 'nayg', 'nayi', 'nayi', 'nayn', 'nayn', 'nayr', 'nayr', 'nays', 'nays', 'nayt', 'nayt', 'ngai', 'ngai', 'ngan', 'ngan', 'ngar', 'ngar', 'ngas', 'ngas', 'ngat', 'ngat', 'ngay', 'ngay', 'ngia', 'ngia', 'ngin', 'ngin', 'ngir', 'ngir', 'ngis', 'ngis', 'ngit', 'ngit', 'ngiy', 'ngiy', 'ngna', 'ngna', 'ngni', 'ngni', 'ngnr', 'ngnr', 'ngns', 'ngns', 'ngnt', 'ngnt', 'ngny', 'ngny', 'ngra', 'ngra', 'ngri', 'ngri', 'ngrn', 'ngrn', 'ngrs', 'ngrs', 'ngrt', 'ngrt', 'ngry', 'ngry', 'ngsa', 'ngsa', 'ngsi', 'ngsi', 'ngsn', 'ngsn', 'ngsr', 'ngsr', 'ngst', 'ngst', 'ngsy', 'ngsy', 'ngta', 'ngta', 'ngti', 'ngti', 'ngtn', 'ngtn', 'ngtr', 'ngtr', 'ngts', 'ngts', 'ngty', 'ngty', 'ngya', 'ngya', 'ngyi', 'ngyi', 'ngyn', 'ngyn', 'ngyr', 'ngyr', 'ngys', 'ngys', 'ngyt', 'ngyt', 'niag', 'niag', 'nian', 'nian', 'niar', 'niar', 'nias', 'nias', 'niat', 'niat', 'niay', 'niay', 'niga', 'niga', 'nign', 'nign', 'nigr', 'nigr', 'nigs', 'nigs', 'nigt', 'nigt', 'nigy', 'nigy', 'nina', 'nina', 'ning', 'ning', 'ninr', 'ninr', 'nins', 'nins', 'nint', 'nint', 'niny', 'niny', 'nira', 'nira', 'nirg', 'nirg', 'nirn', 'nirn', 'nirs', 'nirs', 'nirt', 'nirt', 'niry', 'niry', 'nisa', 'nisa', 'nisg', 'nisg', 'nisn', 'nisn', 'nisr', 'nisr', 'nist', 'nist', 'nisy', 'nisy', 'nita', 'nita', 'nitg', 'nitg', 'nitn', 'nitn', 'nitr', 'nitr', 'nits', 'nits', 'nity', 'nity', 'niya', 'niya', 'niyg', 'niyg', 'niyn', 'niyn', 'niyr', 'niyr', 'niys', 'niys', 'niyt', 'niyt', 'nnag', 'nnag', 'nnai', 'nnai', 'nnar', 'nnar', 'nnas', 'nnas', 'nnat', 'nnat', 'nnay', 'nnay', 'nnga', 'nnga', 'nngi', 'nngi', 'nngr', 'nngr', 'nngs', 'nngs', 'nngt', 'nngt', 'nngy', 'nngy', 'nnia', 'nnia', 'nnig', 'nnig', 'nnir', 'nnir', 'nnis', 'nnis', 'nnit', 'nnit', 'nniy', 'nniy', 'nnra', 'nnra', 'nnrg', 'nnrg', 'nnri', 'nnri', 'nnrs', 'nnrs', 'nnrt', 'nnrt', 'nnry', 'nnry', 'nnsa', 'nnsa', 'nnsg', 'nnsg', 'nnsi', 'nnsi', 'nnsr', 'nnsr', 'nnst', 'nnst', 'nnsy', 'nnsy', 'nnta', 'nnta', 'nntg', 'nntg', 'nnti', 'nnti', 'nntr', 'nntr', 'nnts', 'nnts', 'nnty', 'nnty', 'nnya', 'nnya', 'nnyg', 'nnyg', 'nnyi', 'nnyi', 'nnyr', 'nnyr', 'nnys', 'nnys', 'nnyt', 'nnyt', 'nrag', 'nrag', 'nrai', 'nrai', 'nran', 'nran', 'nras', 'nras', 'nrat', 'nrat', 'nray', 'nray', 'nrga', 'nrga', 'nrgi', 'nrgi', 'nrgn', 'nrgn', 'nrgs', 'nrgs', 'nrgt', 'nrgt', 'nrgy', 'nrgy', 'nria', 'nria', 'nrig', 'nrig', 'nrin', 'nrin', 'nris', 'nris', 'nrit', 'nrit', 'nriy', 'nriy', 'nrna', 'nrna', 'nrng', 'nrng', 'nrni', 'nrni', 'nrns', 'nrns', 'nrnt', 'nrnt', 'nrny', 'nrny', 'nrsa', 'nrsa', 'nrsg', 'nrsg', 'nrsi', 'nrsi', 'nrsn', 'nrsn', 'nrst', 'nrst', 'nrsy', 'nrsy', 'nrta', 'nrta', 'nrtg', 'nrtg', 'nrti', 'nrti', 'nrtn', 'nrtn', 'nrts', 'nrts', 'nrty', 'nrty', 'nrya', 'nrya', 'nryg', 'nryg', 'nryi', 'nryi', 'nryn', 'nryn', 'nrys', 'nrys', 'nryt', 'nryt', 'nsag', 'nsag', 'nsai', 'nsai', 'nsan', 'nsan', 'nsar', 'nsar', 'nsat', 'nsat', 'nsay', 'nsay', 'nsga', 'nsga', 'nsgi', 'nsgi', 'nsgn', 'nsgn', 'nsgr', 'nsgr', 'nsgt', 'nsgt', 'nsgy', 'nsgy', 'nsia', 'nsia', 'nsig', 'nsig', 'nsin', 'nsin', 'nsir', 'nsir', 'nsit', 'nsit', 'nsiy', 'nsiy', 'nsna', 'nsna', 'nsng', 'nsng', 'nsni', 'nsni', 'nsnr', 'nsnr', 'nsnt', 'nsnt', 'nsny', 'nsny', 'nsra', 'nsra', 'nsrg', 'nsrg', 'nsri', 'nsri', 'nsrn', 'nsrn', 'nsrt', 'nsrt', 'nsry', 'nsry', 'nsta', 'nsta', 'nstg', 'nstg', 'nsti', 'nsti', 'nstn', 'nstn', 'nstr', 'nstr', 'nsty', 'nsty', 'nsya', 'nsya', 'nsyg', 'nsyg', 'nsyi', 'nsyi', 'nsyn', 'nsyn', 'nsyr', 'nsyr', 'nsyt', 'nsyt', 'ntag', 'ntag', 'ntai', 'ntai', 'ntan', 'ntan', 'ntar', 'ntar', 'ntas', 'ntas', 'ntay', 'ntay', 'ntga', 'ntga', 'ntgi', 'ntgi', 'ntgn', 'ntgn', 'ntgr', 'ntgr', 'ntgs', 'ntgs', 'ntgy', 'ntgy', 'ntia', 'ntia', 'ntig', 'ntig', 'ntin', 'ntin', 'ntir', 'ntir', 'ntis', 'ntis', 'ntiy', 'ntiy', 'ntna', 'ntna', 'ntng', 'ntng', 'ntni', 'ntni', 'ntnr', 'ntnr', 'ntns', 'ntns', 'ntny', 'ntny', 'ntra', 'ntra', 'ntrg', 'ntrg', 'ntri', 'ntri', 'ntrn', 'ntrn', 'ntrs', 'ntrs', 'ntry', 'ntry', 'ntsa', 'ntsa', 'ntsg', 'ntsg', 'ntsi', 'ntsi', 'ntsn', 'ntsn', 'ntsr', 'ntsr', 'ntsy', 'ntsy', 'ntya', 'ntya', 'ntyg', 'ntyg', 'ntyi', 'ntyi', 'ntyn', 'ntyn', 'ntyr', 'ntyr', 'ntys', 'ntys', 'nyag', 'nyag', 'nyai', 'nyai', 'nyan', 'nyan', 'nyar', 'nyar', 'nyas', 'nyas', 'nyat', 'nyat', 'nyga', 'nyga', 'nygi', 'nygi', 'nygn', 'nygn', 'nygr', 'nygr', 'nygs', 'nygs', 'nygt', 'nygt', 'nyia', 'nyia', 'nyig', 'nyig', 'nyin', 'nyin', 'nyir', 'nyir', 'nyis', 'nyis', 'nyit', 'nyit', 'nyna', 'nyna', 'nyng', 'nyng', 'nyni', 'nyni', 'nynr', 'nynr', 'nyns', 'nyns', 'nynt', 'nynt', 'nyra', 'nyra', 'nyrg', 'nyrg', 'nyri', 'nyri', 'nyrn', 'nyrn', 'nyrs', 'nyrs', 'nyrt', 'nyrt', 'nysa', 'nysa', 'nysg', 'nysg', 'nysi', 'nysi', 'nysn', 'nysn', 'nysr', 'nysr', 'nyst', 'nyst', 'nyta', 'nyta', 'nytg', 'nytg', 'nyti', 'nyti', 'nytn', 'nytn', 'nytr', 'nytr', 'nyts', 'nyts', 'ragi', 'ragn', 'ragn', 'rags', 'ragt', 'ragy', 'raig', 'rain', 'rain', 'rais', 'rait', 'raiy', 'rang', 'rang', 'rani', 'rani', 'rann', 'rann', 'rans', 'rans', 'rant', 'rant', 'rany', 'rany', 'rasg', 'rasi', 'rasn', 'rasn', 'rast', 'rasy', 'ratg', 'rati', 'ratn', 'ratn', 'rats', 'raty', 'rayg', 'rayi', 'rayn', 'rayn', 'rays', 'rayt', 'rgai', 'rgan', 'rgan', 'rgas', 'rgat', 'rgay', 'rgia', 'rgin', 'rgin', 'rgis', 'rgit', 'rgiy', 'rgna', 'rgna', 'rgni', 'rgni', 'rgnn', 'rgnn', 'rgns', 'rgns', 'rgnt', 'rgnt', 'rgny', 'rgny', 'rgsa', 'rgsi', 'rgsn', 'rgsn', 'rgst', 'rgsy', 'rgta', 'rgti', 'rgtn', 'rgtn', 'rgts', 'rgty', 'rgya', 'rgyi', 'rgyn', 'rgyn', 'rgys', 'rgyt', 'riag', 'rian', 'rian', 'rias', 'riat', 'riay', 'riga', 'rign', 'rign', 'rigs', 'rigt', 'rigy', 'rina', 'rina', 'ring', 'ring', 'rinn', 'rinn', 'rins', 'rins', 'rint', 'rint', 'riny', 'riny', 'risa', 'risg', 'risn', 'risn', 'rist', 'risy', 'rita', 'ritg', 'ritn', 'ritn', 'rits', 'rity', 'riya', 'riyg', 'riyn', 'riyn', 'riys', 'riyt', 'rnag', 'rnag', 'rnai', 'rnai', 'rnan', 'rnan', 'rnas', 'rnas', 'rnat', 'rnat', 'rnay', 'rnay', 'rnga', 'rnga', 'rngi', 'rngi', 'rngn', 'rngn', 'rngs', 'rngs', 'rngt', 'rngt', 'rngy', 'rngy', 'rnia', 'rnia', 'rnig', 'rnig', 'rnin', 'rnin', 'rnis', 'rnis', 'rnit', 'rnit', 'rniy', 'rniy', 'rnna', 'rnna', 'rnng', 'rnng', 'rnni', 'rnni', 'rnns', 'rnns', 'rnnt', 'rnnt', 'rnny', 'rnny', 'rnsa', 'rnsa', 'rnsg', 'rnsg', 'rnsi', 'rnsi', 'rnsn', 'rnsn', 'rnst', 'rnst', 'rnsy', 'rnsy', 'rnta', 'rnta', 'rntg', 'rntg', 'rnti', 'rnti', 'rntn', 'rntn', 'rnts', 'rnts', 'rnty', 'rnty', 'rnya', 'rnya', 'rnyg', 'rnyg', 'rnyi', 'rnyi', 'rnyn', 'rnyn', 'rnys', 'rnys', 'rnyt', 'rnyt', 'rsag', 'rsai', 'rsan', 'rsan', 'rsat', 'rsay', 'rsga', 'rsgi', 'rsgn', 'rsgn', 'rsgt', 'rsgy', 'rsia', 'rsig', 'rsin', 'rsin', 'rsit', 'rsiy', 'rsna', 'rsna', 'rsng', 'rsng', 'rsni', 'rsni', 'rsnn', 'rsnn', 'rsnt', 'rsnt', 'rsny', 'rsny', 'rsta', 'rstg', 'rsti', 'rstn', 'rstn', 'rsty', 'rsya', 'rsyg', 'rsyi', 'rsyn', 'rsyn', 'rsyt', 'rtag', 'rtai', 'rtan', 'rtan', 'rtas', 'rtay', 'rtga', 'rtgi', 'rtgn', 'rtgn', 'rtgs', 'rtgy', 'rtia', 'rtig', 'rtin', 'rtin', 'rtis', 'rtiy', 'rtna', 'rtna', 'rtng', 'rtng', 'rtni', 'rtni', 'rtnn', 'rtnn', 'rtns', 'rtns', 'rtny', 'rtny', 'rtsa', 'rtsg', 'rtsi', 'rtsn', 'rtsn', 'rtsy', 'rtya', 'rtyg', 'rtyi', 'rtyn', 'rtyn', 'rtys', 'ryag', 'ryai', 'ryan', 'ryan', 'ryas', 'ryat', 'ryga', 'rygi', 'rygn', 'rygn', 'rygs', 'rygt', 'ryia', 'ryig', 'ryin', 'ryin', 'ryis', 'ryit', 'ryna', 'ryna', 'ryng', 'ryng', 'ryni', 'ryni', 'rynn', 'rynn', 'ryns', 'ryns', 'rynt', 'rynt', 'rysa', 'rysg', 'rysi', 'rysn', 'rysn', 'ryst', 'ryta', 'rytg', 'ryti', 'rytn', 'rytn', 'ryts', 'sagi', 'sagn', 'sagn', 'sagr', 'sagt', 'sagy', 'saig', 'sain', 'sain', 'sair', 'sait', 'saiy', 'sang', 'sang', 'sani', 'sani', 'sann', 'sann', 'sanr', 'sanr', 'sant', 'sant', 'sany', 'sany', 'sarg', 'sari', 'sarn', 'sarn', 'sart', 'sary', 'satg', 'sati', 'satn', 'satn', 'satr', 'saty', 'sayg', 'sayi', 'sayn', 'sayn', 'sayr', 'sayt', 'sgai', 'sgan', 'sgan', 'sgar', 'sgat', 'sgay', 'sgia', 'sgin', 'sgin', 'sgir', 'sgit', 'sgiy', 'sgna', 'sgna', 'sgni', 'sgni', 'sgnn', 'sgnn', 'sgnr', 'sgnr', 'sgnt', 'sgnt', 'sgny', 'sgny', 'sgra', 'sgri', 'sgrn', 'sgrn', 'sgrt', 'sgry', 'sgta', 'sgti', 'sgtn', 'sgtn', 'sgtr', 'sgty', 'sgya', 'sgyi', 'sgyn', 'sgyn', 'sgyr', 'sgyt', 'siag', 'sian', 'sian', 'siar', 'siat', 'siay', 'siga', 'sign', 'sign', 'sigr', 'sigt', 'sigy', 'sina', 'sina', 'sing', 'sing', 'sinn', 'sinn', 'sinr', 'sinr', 'sint', 'sint', 'siny', 'siny', 'sira', 'sirg', 'sirn', 'sirn', 'sirt', 'siry', 'sita', 'sitg', 'sitn', 'sitn', 'sitr', 'sity', 'siya', 'siyg', 'siyn', 'siyn', 'siyr', 'siyt', 'snag', 'snag', 'snai', 'snai', 'snan', 'snan', 'snar', 'snar', 'snat', 'snat', 'snay', 'snay', 'snga', 'snga', 'sngi', 'sngi', 'sngn', 'sngn', 'sngr', 'sngr', 'sngt', 'sngt', 'sngy', 'sngy', 'snia', 'snia', 'snig', 'snig', 'snin', 'snin', 'snir', 'snir', 'snit', 'snit', 'sniy', 'sniy', 'snna', 'snna', 'snng', 'snng', 'snni', 'snni', 'snnr', 'snnr', 'snnt', 'snnt', 'snny', 'snny', 'snra', 'snra', 'snrg', 'snrg', 'snri', 'snri', 'snrn', 'snrn', 'snrt', 'snrt', 'snry', 'snry', 'snta', 'snta', 'sntg', 'sntg', 'snti', 'snti', 'sntn', 'sntn', 'sntr', 'sntr', 'snty', 'snty', 'snya', 'snya', 'snyg', 'snyg', 'snyi', 'snyi', 'snyn', 'snyn', 'snyr', 'snyr', 'snyt', 'snyt', 'srag', 'srai', 'sran', 'sran', 'srat', 'sray', 'srga', 'srgi', 'srgn', 'srgn', 'srgt', 'srgy', 'sria', 'srig', 'srin', 'srin', 'srit', 'sriy', 'srna', 'srna', 'srng', 'srng', 'srni', 'srni', 'srnn', 'srnn', 'srnt', 'srnt', 'srny', 'srny', 'srta', 'srtg', 'srti', 'srtn', 'srtn', 'srty', 'srya', 'sryg', 'sryi', 'sryn', 'sryn', 'sryt', 'stag', 'stai', 'stan', 'stan', 'star', 'stay', 'stga', 'stgi', 'stgn', 'stgn', 'stgr', 'stgy', 'stia', 'stig', 'stin', 'stin', 'stir', 'stiy', 'stna', 'stna', 'stng', 'stng', 'stni', 'stni', 'stnn', 'stnn', 'stnr', 'stnr', 'stny', 'stny', 'stra', 'strg', 'stri', 'strn', 'strn', 'stry', 'stya', 'styg', 'styi', 'styn', 'styn', 'styr', 'syag', 'syai', 'syan', 'syan', 'syar', 'syat', 'syga', 'sygi', 'sygn', 'sygn', 'sygr', 'sygt', 'syia', 'syig', 'syin', 'syin', 'syir', 'syit', 'syna', 'syna', 'syng', 'syng', 'syni', 'syni', 'synn', 'synn', 'synr', 'synr', 'synt', 'synt', 'syra', 'syrg', 'syri', 'syrn', 'syrn', 'syrt', 'syta', 'sytg', 'syti', 'sytn', 'sytn', 'sytr', 'tagi', 'tagn', 'tagn', 'tagr', 'tags', 'tagy', 'taig', 'tain', 'tain', 'tair', 'tais', 'taiy', 'tang', 'tang', 'tani', 'tani', 'tann', 'tann', 'tanr', 'tanr', 'tans', 'tans', 'tany', 'tany', 'targ', 'tari', 'tarn', 'tarn', 'tars', 'tary', 'tasg', 'tasi', 'tasn', 'tasn', 'tasr', 'tasy', 'tayg', 'tayi', 'tayn', 'tayn', 'tayr', 'tays', 'tgai', 'tgan', 'tgan', 'tgar', 'tgas', 'tgay', 'tgia', 'tgin', 'tgin', 'tgir', 'tgis', 'tgiy', 'tgna', 'tgna', 'tgni', 'tgni', 'tgnn', 'tgnn', 'tgnr', 'tgnr', 'tgns', 'tgns', 'tgny', 'tgny', 'tgra', 'tgri', 'tgrn', 'tgrn', 'tgrs', 'tgry', 'tgsa', 'tgsi', 'tgsn', 'tgsn', 'tgsr', 'tgsy', 'tgya', 'tgyi', 'tgyn', 'tgyn', 'tgyr', 'tgys', 'tiag', 'tian', 'tian', 'tiar', 'tias', 'tiay', 'tiga', 'tign', 'tign', 'tigr', 'tigs', 'tigy', 'tina', 'tina', 'ting', 'ting', 'tinn', 'tinn', 'tinr', 'tinr', 'tins', 'tins', 'tiny', 'tiny', 'tira', 'tirg', 'tirn', 'tirn', 'tirs', 'tiry', 'tisa', 'tisg', 'tisn', 'tisn', 'tisr', 'tisy', 'tiya', 'tiyg', 'tiyn', 'tiyn', 'tiyr', 'tiys', 'tnag', 'tnag', 'tnai', 'tnai', 'tnan', 'tnan', 'tnar', 'tnar', 'tnas', 'tnas', 'tnay', 'tnay', 'tnga', 'tnga', 'tngi', 'tngi', 'tngn', 'tngn', 'tngr', 'tngr', 'tngs', 'tngs', 'tngy', 'tngy', 'tnia', 'tnia', 'tnig', 'tnig', 'tnin', 'tnin', 'tnir', 'tnir', 'tnis', 'tnis', 'tniy', 'tniy', 'tnna', 'tnna', 'tnng', 'tnng', 'tnni', 'tnni', 'tnnr', 'tnnr', 'tnns', 'tnns', 'tnny', 'tnny', 'tnra', 'tnra', 'tnrg', 'tnrg', 'tnri', 'tnri', 'tnrn', 'tnrn', 'tnrs', 'tnrs', 'tnry', 'tnry', 'tnsa', 'tnsa', 'tnsg', 'tnsg', 'tnsi', 'tnsi', 'tnsn', 'tnsn', 'tnsr', 'tnsr', 'tnsy', 'tnsy', 'tnya', 'tnya', 'tnyg', 'tnyg', 'tnyi', 'tnyi', 'tnyn', 'tnyn', 'tnyr', 'tnyr', 'tnys', 'tnys', 'trag', 'trai', 'tran', 'tran', 'tras', 'tray', 'trga', 'trgi', 'trgn', 'trgn', 'trgs', 'trgy', 'tria', 'trig', 'trin', 'trin', 'tris', 'triy', 'trna', 'trna', 'trng', 'trng', 'trni', 'trni', 'trnn', 'trnn', 'trns', 'trns', 'trny', 'trny', 'trsa', 'trsg', 'trsi', 'trsn', 'trsn', 'trsy', 'trya', 'tryg', 'tryi', 'tryn', 'tryn', 'trys', 'tsag', 'tsai', 'tsan', 'tsan', 'tsar', 'tsay', 'tsga', 'tsgi', 'tsgn', 'tsgn', 'tsgr', 'tsgy', 'tsia', 'tsig', 'tsin', 'tsin', 'tsir', 'tsiy', 'tsna', 'tsna', 'tsng', 'tsng', 'tsni', 'tsni', 'tsnn', 'tsnn', 'tsnr', 'tsnr', 'tsny', 'tsny', 'tsra', 'tsrg', 'tsri', 'tsrn', 'tsrn', 'tsry', 'tsya', 'tsyg', 'tsyi', 'tsyn', 'tsyn', 'tsyr', 'tyag', 'tyai', 'tyan', 'tyan', 'tyar', 'tyas', 'tyga', 'tygi', 'tygn', 'tygn', 'tygr', 'tygs', 'tyia', 'tyig', 'tyin', 'tyin', 'tyir', 'tyis', 'tyna', 'tyna', 'tyng', 'tyng', 'tyni', 'tyni', 'tynn', 'tynn', 'tynr', 'tynr', 'tyns', 'tyns', 'tyra', 'tyrg', 'tyri', 'tyrn', 'tyrn', 'tyrs', 'tysa', 'tysg', 'tysi', 'tysn', 'tysn', 'tysr', 'yagi', 'yagn', 'yagn', 'yagr', 'yags', 'yagt', 'yaig', 'yain', 'yain', 'yair', 'yais', 'yait', 'yang', 'yang', 'yani', 'yani', 'yann', 'yann', 'yanr', 'yanr', 'yans', 'yans', 'yant', 'yant', 'yarg', 'yari', 'yarn', 'yarn', 'yars', 'yart', 'yasg', 'yasi', 'yasn', 'yasn', 'yasr', 'yast', 'yatg', 'yati', 'yatn', 'yatn', 'yatr', 'yats', 'ygai', 'ygan', 'ygan', 'ygar', 'ygas', 'ygat', 'ygia', 'ygin', 'ygin', 'ygir', 'ygis', 'ygit', 'ygna', 'ygna', 'ygni', 'ygni', 'ygnn', 'ygnn', 'ygnr', 'ygnr', 'ygns', 'ygns', 'ygnt', 'ygnt', 'ygra', 'ygri', 'ygrn', 'ygrn', 'ygrs', 'ygrt', 'ygsa', 'ygsi', 'ygsn', 'ygsn', 'ygsr', 'ygst', 'ygta', 'ygti', 'ygtn', 'ygtn', 'ygtr', 'ygts', 'yiag', 'yian', 'yian', 'yiar', 'yias', 'yiat', 'yiga', 'yign', 'yign', 'yigr', 'yigs', 'yigt', 'yina', 'yina', 'ying', 'ying', 'yinn', 'yinn', 'yinr', 'yinr', 'yins', 'yins', 'yint', 'yint', 'yira', 'yirg', 'yirn', 'yirn', 'yirs', 'yirt', 'yisa', 'yisg', 'yisn', 'yisn', 'yisr', 'yist', 'yita', 'yitg', 'yitn', 'yitn', 'yitr', 'yits', 'ynag', 'ynag', 'ynai', 'ynai', 'ynan', 'ynan', 'ynar', 'ynar', 'ynas', 'ynas', 'ynat', 'ynat', 'ynga', 'ynga', 'yngi', 'yngi', 'yngn', 'yngn', 'yngr', 'yngr', 'yngs', 'yngs', 'yngt', 'yngt', 'ynia', 'ynia', 'ynig', 'ynig', 'ynin', 'ynin', 'ynir', 'ynir', 'ynis', 'ynis', 'ynit', 'ynit', 'ynna', 'ynna', 'ynng', 'ynng', 'ynni', 'ynni', 'ynnr', 'ynnr', 'ynns', 'ynns', 'ynnt', 'ynnt', 'ynra', 'ynra', 'ynrg', 'ynrg', 'ynri', 'ynri', 'ynrn', 'ynrn', 'ynrs', 'ynrs', 'ynrt', 'ynrt', 'ynsa', 'ynsa', 'ynsg', 'ynsg', 'ynsi', 'ynsi', 'ynsn', 'ynsn', 'ynsr', 'ynsr', 'ynst', 'ynst', 'ynta', 'ynta', 'yntg', 'yntg', 'ynti', 'ynti', 'yntn', 'yntn', 'yntr', 'yntr', 'ynts', 'ynts', 'yrag', 'yrai', 'yran', 'yran', 'yras', 'yrat', 'yrga', 'yrgi', 'yrgn', 'yrgn', 'yrgs', 'yrgt', 'yria', 'yrig', 'yrin', 'yrin', 'yris', 'yrit', 'yrna', 'yrna', 'yrng', 'yrng', 'yrni', 'yrni', 'yrnn', 'yrnn', 'yrns', 'yrns', 'yrnt', 'yrnt', 'yrsa', 'yrsg', 'yrsi', 'yrsn', 'yrsn', 'yrst', 'yrta', 'yrtg', 'yrti', 'yrtn', 'yrtn', 'yrts', 'ysag', 'ysai', 'ysan', 'ysan', 'ysar', 'ysat', 'ysga', 'ysgi', 'ysgn', 'ysgn', 'ysgr', 'ysgt', 'ysia', 'ysig', 'ysin', 'ysin', 'ysir', 'ysit', 'ysna', 'ysna', 'ysng', 'ysng', 'ysni', 'ysni', 'ysnn', 'ysnn', 'ysnr', 'ysnr', 'ysnt', 'ysnt', 'ysra', 'ysrg', 'ysri', 'ysrn', 'ysrn', 'ysrt', 'ysta', 'ystg', 'ysti', 'ystn', 'ystn', 'ystr', 'ytag', 'ytai', 'ytan', 'ytan', 'ytar', 'ytas', 'ytga', 'ytgi', 'ytgn', 'ytgn', 'ytgr', 'ytgs', 'ytia', 'ytig', 'ytin', 'ytin', 'ytir', 'ytis', 'ytna', 'ytna', 'ytng', 'ytng', 'ytni', 'ytni', 'ytnn', 'ytnn', 'ytnr', 'ytnr', 'ytns', 'ytns', 'ytra', 'ytrg', 'ytri', 'ytrn', 'ytrn', 'ytrs', 'ytsa', 'ytsg', 'ytsi', 'ytsn', 'ytsn', 'ytsr']\n"
     ]
    }
   ],
   "source": [
    "print(string_perm())"
   ]
  },
  {
   "cell_type": "markdown",
   "metadata": {},
   "source": [
    "Задача 4 Комбинации символов\n",
    "\n",
    "Решить следующее задание с применением библиотеки itertools. Реализовать функцию get_combinations.Должна принимать строку s и число k и возвращать все возможные комбинации из символов в строке s сдлинами<=k(использовать itertools.combinations)"
   ]
  },
  {
   "cell_type": "code",
   "execution_count": 54,
   "metadata": {},
   "outputs": [],
   "source": [
    "from itertools import combinations\n",
    "\n",
    "def string_comb (s='anystring', n=4):\n",
    "    result = []\n",
    "    for i in range(1, n+1):\n",
    "        result.extend([''.join(combination) for combination in combinations(s, n)])\n",
    "    return list(set(sorted(result)))"
   ]
  },
  {
   "cell_type": "code",
   "execution_count": 55,
   "metadata": {},
   "outputs": [
    {
     "name": "stdout",
     "output_type": "stream",
     "text": [
      "['astr', 'ysrg', 'anri', 'anrn', 'nsrg', 'asrn', 'aysn', 'nrin', 'ytng', 'yrng', 'trng', 'ntng', 'anyn', 'nyng', 'aytg', 'antn', 'ayin', 'arin', 'asti', 'stng', 'ring', 'asig', 'strn', 'asri', 'arig', 'srin', 'nsig', 'ytin', 'ytig', 'ayrn', 'ntri', 'nyti', 'aing', 'nyin', 'nysg', 'atrg', 'anys', 'nytn', 'stri', 'asrg', 'nrng', 'anig', 'nysi', 'anyt', 'aysi', 'ntig', 'ying', 'atin', 'ysin', 'anrg', 'ayng', 'ysng', 'nstr', 'nsng', 'anin', 'atig', 'nyrn', 'trig', 'ayrg', 'nysn', 'nysr', 'nyst', 'anti', 'nytg', 'arng', 'nrig', 'ystg', 'ytri', 'yrig', 'aytn', 'ansn', 'ansr', 'ysti', 'anyg', 'antg', 'astg', 'ntrg', 'stig', 'ayti', 'yrin', 'nstn', 'nsri', 'anyi', 'ayst', 'ysig', 'anng', 'nsrn', 'ayri', 'astn', 'ansg', 'ntin', 'nyig', 'srig', 'aytr', 'trin', 'ystr', 'ting', 'nyri', 'atrn', 'anst', 'ntrn', 'aysr', 'atng', 'stin', 'nstg', 'sing', 'atri', 'strg', 'nsti', 'ansi', 'ning', 'asin', 'ayig', 'ytrn', 'nytr', 'ytrg', 'asng', 'antr', 'anyr', 'srng', 'aysg', 'nyrg', 'ysri', 'nsin', 'ystn', 'ysrn']\n"
     ]
    }
   ],
   "source": [
    "print(string_comb())"
   ]
  },
  {
   "cell_type": "markdown",
   "metadata": {},
   "source": [
    "Задача 5 Функция с частичными аргументами\n",
    "\n",
    "Решить следующее задание с применением библиотеки functools. Напишите функцию _sort_users_by_age, которая принимает список пользователей(словарей) и порядок сортировки (возрастание или убывание). Используя partial создайте две новые функции: одну для сортировки по возрастанию возраста и другую — по убыванию."
   ]
  },
  {
   "cell_type": "code",
   "execution_count": 56,
   "metadata": {},
   "outputs": [],
   "source": [
    "from functools import partial\n",
    "\n",
    "def _sort_users_by_age(users, descending=False):\n",
    "    return sorted(users, key= lambda user: user['age'], reverse=descending)\n",
    "\n",
    "sort_ascending = partial(_sort_users_by_age ,descending=False)\n",
    "sort_descending = partial(_sort_users_by_age ,descending=True)"
   ]
  },
  {
   "cell_type": "code",
   "execution_count": 57,
   "metadata": {},
   "outputs": [],
   "source": [
    "users = [{\"name\": \"Bob\",\"age\":17},{\"name\":\"Joe\",\"age\":19},{\"name\":\"Mary\",\"age\":11}]"
   ]
  },
  {
   "cell_type": "code",
   "execution_count": 58,
   "metadata": {},
   "outputs": [
    {
     "name": "stdout",
     "output_type": "stream",
     "text": [
      "[{'name': 'Mary', 'age': 11}, {'name': 'Bob', 'age': 17}, {'name': 'Joe', 'age': 19}]\n"
     ]
    }
   ],
   "source": [
    "print(sort_ascending(users))"
   ]
  },
  {
   "cell_type": "code",
   "execution_count": 59,
   "metadata": {},
   "outputs": [
    {
     "name": "stdout",
     "output_type": "stream",
     "text": [
      "[{'name': 'Joe', 'age': 19}, {'name': 'Bob', 'age': 17}, {'name': 'Mary', 'age': 11}]\n"
     ]
    }
   ],
   "source": [
    "print(sort_descending(users))"
   ]
  }
 ],
 "metadata": {
  "kernelspec": {
   "display_name": "venv",
   "language": "python",
   "name": "python3"
  },
  "language_info": {
   "codemirror_mode": {
    "name": "ipython",
    "version": 3
   },
   "file_extension": ".py",
   "mimetype": "text/x-python",
   "name": "python",
   "nbconvert_exporter": "python",
   "pygments_lexer": "ipython3",
   "version": "3.8.9"
  }
 },
 "nbformat": 4,
 "nbformat_minor": 2
}
