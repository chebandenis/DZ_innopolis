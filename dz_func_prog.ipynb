{
 "cells": [
  {
   "cell_type": "markdown",
   "metadata": {},
   "source": [
    "Задача 1 Фильтрация данных\n",
    "\n",
    "Объявите функцию, которая принимает строку (в качестве аргумента) и возвращает False, если длина строки меньше трех символов.Иначе возвращается значение True. После объявления функции прочитайте (спомощью функции input) список названий городов,записанных в одну строку через пробел. Затем, используя генератор списка и созданную функцию,сформируйте список из названий городов длиной не менее трех символов на основе введенного исходного списка. Результат отобразите на экране"
   ]
  },
  {
   "cell_type": "code",
   "execution_count": 29,
   "metadata": {},
   "outputs": [
    {
     "name": "stdout",
     "output_type": "stream",
     "text": [
      "['fghj']\n"
     ]
    }
   ],
   "source": [
    "cities = input(\"Введите название городов через пробел: \").split()\n",
    "cities = [city for city in cities if lambda x: True if len(city)>3] \n",
    "print(cities)\n"
   ]
  },
  {
   "cell_type": "markdown",
   "metadata": {},
   "source": [
    "Задача 2 Вложенные функции\n",
    "\n",
    "Напишите программу, которая выполняет следующие действия:\n",
    "\n",
    "1.Определите функцию get_list, которая принимает строку из целых чисел, разделенных пробелами, и возвращает список из этих чисел.\n",
    "2.Создайте функцию sort_func, которая:\n",
    "    a.Принимает функцию как аргумент \n",
    "    b.Вызывает переданную функциюc. \n",
    "    c.Сортирует результат работы функции по возрастанию\n",
    "    d.Возвращает отсортированный результат\n",
    "3.Используйте вызов функций get_list и sort_decorator, чтобы вывести результат на экран\n"
   ]
  },
  {
   "cell_type": "code",
   "execution_count": 23,
   "metadata": {},
   "outputs": [],
   "source": [
    "def get_list(string):\n",
    "    return list(map(lambda x: int(x), string.split()))"
   ]
  },
  {
   "cell_type": "code",
   "execution_count": 25,
   "metadata": {},
   "outputs": [],
   "source": [
    "def sort_func(l):\n",
    "    return sorted(l)"
   ]
  },
  {
   "cell_type": "code",
   "execution_count": 28,
   "metadata": {},
   "outputs": [
    {
     "name": "stdout",
     "output_type": "stream",
     "text": [
      "[1, 2, 4]\n"
     ]
    }
   ],
   "source": [
    "print(sort_func(get_list('1 4 2')))"
   ]
  }
 ],
 "metadata": {
  "kernelspec": {
   "display_name": "venv",
   "language": "python",
   "name": "python3"
  },
  "language_info": {
   "codemirror_mode": {
    "name": "ipython",
    "version": 3
   },
   "file_extension": ".py",
   "mimetype": "text/x-python",
   "name": "python",
   "nbconvert_exporter": "python",
   "pygments_lexer": "ipython3",
   "version": "3.8.9"
  }
 },
 "nbformat": 4,
 "nbformat_minor": 2
}
