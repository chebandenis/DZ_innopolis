{
 "cells": [
  {
   "cell_type": "markdown",
   "metadata": {},
   "source": [
    "Задача 1 Фильтрация данных\n",
    "\n",
    "Объявите функцию, которая принимает строку (в качестве аргумента) и возвращает False, если длина строки меньше трех символов.Иначе возвращается значение True. После объявления функции прочитайте (спомощью функции input) список названий городов,записанных в одну строку через пробел. Затем, используя генератор списка и созданную функцию,сформируйте список из названий городов длиной не менее трех символов на основе введенного исходного списка. Результат отобразите на экране"
   ]
  },
  {
   "cell_type": "code",
   "execution_count": 14,
   "metadata": {},
   "outputs": [
    {
     "name": "stdout",
     "output_type": "stream",
     "text": [
      "['fghh']\n"
     ]
    }
   ],
   "source": [
    "cities = input(\"Введите название городов через пробел: \").split()\n",
    "cities = [city for city in cities if lambda x: True if len(city)>3]\n",
    "print(cities)\n"
   ]
  }
 ],
 "metadata": {
  "kernelspec": {
   "display_name": "venv",
   "language": "python",
   "name": "python3"
  },
  "language_info": {
   "codemirror_mode": {
    "name": "ipython",
    "version": 3
   },
   "file_extension": ".py",
   "mimetype": "text/x-python",
   "name": "python",
   "nbconvert_exporter": "python",
   "pygments_lexer": "ipython3",
   "version": "3.8.9"
  }
 },
 "nbformat": 4,
 "nbformat_minor": 2
}
