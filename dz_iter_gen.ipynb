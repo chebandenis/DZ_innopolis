{
 "cells": [
  {
   "cell_type": "markdown",
   "metadata": {},
   "source": [
    "Задача 1.\n",
    "\n",
    "Создать программу, которая работает со списком. Пользователь вводит список в программу. Реализовать следующиед ействия:\n",
    "1.С помощью функции any проверить содержит ли этот список хотябы одно положительное число.\n",
    "2.Спомощью функции all проверить состоят ли все элементы списка только из чисел.\n",
    "3.Отсортировать список с помощью функции sorted"
   ]
  },
  {
   "cell_type": "code",
   "execution_count": 21,
   "metadata": {},
   "outputs": [
    {
     "name": "stdout",
     "output_type": "stream",
     "text": [
      "[3.0, 5.0, 6.0, 7.0]\n"
     ]
    }
   ],
   "source": [
    "#генерация пользовательского списка\n",
    "user_list = input().split()\n",
    "for i in range(len(user_list)):\n",
    "    try:\n",
    "        user_list[i] = float(user_list[i])\n",
    "    except:\n",
    "        continue\n",
    "print(user_list)"
   ]
  },
  {
   "cell_type": "code",
   "execution_count": 22,
   "metadata": {},
   "outputs": [
    {
     "name": "stdout",
     "output_type": "stream",
     "text": [
      "[3.0, 5.0, 6.0, 7.0]\n"
     ]
    }
   ],
   "source": [
    "def is_float(i):\n",
    "    return isinstance(i, float)\n",
    "out_filter = list(filter(is_float, user_list))\n",
    "print(out_filter)\n"
   ]
  },
  {
   "cell_type": "markdown",
   "metadata": {},
   "source": [
    "1. Спомощью функции any проверить содержит ли этот список хотябы одно положительное число."
   ]
  },
  {
   "cell_type": "code",
   "execution_count": 23,
   "metadata": {},
   "outputs": [
    {
     "name": "stdout",
     "output_type": "stream",
     "text": [
      "В пользовательском списке есть положительные числа\n"
     ]
    }
   ],
   "source": [
    "if any(i>0 for i in out_filter):\n",
    "    print('В пользовательском списке есть положительные числа')\n",
    "else:\n",
    "    print('В пользовательском списке нет положительных чисел')"
   ]
  },
  {
   "cell_type": "markdown",
   "metadata": {},
   "source": [
    "2. Спомощью функции all проверить состоят ли все элементы списка только из чисел"
   ]
  },
  {
   "cell_type": "code",
   "execution_count": 24,
   "metadata": {},
   "outputs": [
    {
     "name": "stdout",
     "output_type": "stream",
     "text": [
      "В пользовательском списке только числа\n"
     ]
    }
   ],
   "source": [
    "\n",
    "if all(isinstance(i, (int, float)) for i in user_list):\n",
    "    print ('В пользовательском списке только числа')\n",
    "else:\n",
    "    print ('В пользовательском списке есть не числа')\n",
    "    "
   ]
  },
  {
   "cell_type": "code",
   "execution_count": 25,
   "metadata": {},
   "outputs": [
    {
     "name": "stdout",
     "output_type": "stream",
     "text": [
      "Отсортированный лист [3.0, 5.0, 6.0, 7.0]\n"
     ]
    }
   ],
   "source": [
    "try:\n",
    "    sorted_list = sorted(user_list)\n",
    "    print(f'Отсортированный лист {sorted_list}')\n",
    "except TypeError:\n",
    "    print('Нельзя сравнивать числа со строками!')"
   ]
  },
  {
   "cell_type": "markdown",
   "metadata": {},
   "source": [
    "Задача 2.\n",
    "\n",
    "Написать класс CyclicIterator. Итератор должен итерировать по итерируемому объекту (например,по range,list,tuple,setит.д.),и когда достигнет последнего элемента, начинать с начала. Проверить работу итератора"
   ]
  },
  {
   "cell_type": "code",
   "execution_count": 80,
   "metadata": {},
   "outputs": [
    {
     "name": "stdout",
     "output_type": "stream",
     "text": [
      "2 t 3 s 8 99.9 2 t 3 s 8 99.9 2 t 3 s 8 99.9 2 t 3 s 8 99.9 \n"
     ]
    }
   ],
   "source": [
    "from itertools import cycle\n",
    "\n",
    "class CyclicIterator:\n",
    "   \n",
    "    def __init__(self, iter_obj):\n",
    "        self.iter_obj = cycle(iter_obj)\n",
    "    \n",
    "    \n",
    "    \n",
    "    def printer(self, n):\n",
    "        for i in range(n):\n",
    "            print(next(self.iter_obj), end=' ')\n",
    "        print()\n",
    "    \n",
    "  \n",
    "x =  CyclicIterator([2, 't', 3, 's', 8, 99.9])\n",
    "x.printer(24)\n",
    "\n",
    "\n",
    "    \n",
    "\n",
    "        "
   ]
  },
  {
   "cell_type": "markdown",
   "metadata": {},
   "source": [
    "Задача 3\n",
    "\n",
    "Задайте функцию-генератор, которая на основе символов строки chars:\n",
    "\n",
    "from string import ascii_lowercase, ascii_uppercase \n",
    "chars=ascii_lowercase + ascii_uppercase + \"0123456789!?@#$*\" \n",
    "\n",
    "формирует и выдает случайно сгенерированные пароли длиной 12 символов. Количество выдаваемых паролей функцией должно быть неограниченным.Случайный выбор символа из последовательности chars можно реализовать с помощью функции choice модуля random. Выведите первые пять сгенерированных паролей на экран."
   ]
  },
  {
   "cell_type": "code",
   "execution_count": 89,
   "metadata": {},
   "outputs": [],
   "source": [
    "from string import ascii_lowercase, ascii_uppercase \n",
    "chars=ascii_lowercase + ascii_uppercase + \"0123456789!?@#$*\" "
   ]
  },
  {
   "cell_type": "code",
   "execution_count": 104,
   "metadata": {},
   "outputs": [
    {
     "name": "stdout",
     "output_type": "stream",
     "text": [
      "D9RC23Jl1J$3\n",
      "q7PwQFNNZVCa\n",
      "aQYR8aNYU4K9\n",
      "NciOAc1Mgeqr\n",
      "$gC8NrgNP!eo\n"
     ]
    }
   ],
   "source": [
    "\n",
    "\n",
    "def generate_password(char_set):\n",
    "    while True:\n",
    "        yield ( ''.join(random.choice(char_set) for _ in range(12)))\n",
    "    \n",
    "x = generate_password(chars)\n",
    "for i in range(5):\n",
    "    print(next(x))"
   ]
  }
 ],
 "metadata": {
  "kernelspec": {
   "display_name": "venv",
   "language": "python",
   "name": "python3"
  },
  "language_info": {
   "codemirror_mode": {
    "name": "ipython",
    "version": 3
   },
   "file_extension": ".py",
   "mimetype": "text/x-python",
   "name": "python",
   "nbconvert_exporter": "python",
   "pygments_lexer": "ipython3",
   "version": "3.8.9"
  }
 },
 "nbformat": 4,
 "nbformat_minor": 2
}
