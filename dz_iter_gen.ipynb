{
 "cells": [
  {
   "cell_type": "markdown",
   "metadata": {},
   "source": [
    "Задача 1.\n",
    "Создать программу, которая работает со списком. Пользователь вводит список в программу. Реализовать следующиед ействия:\n",
    "1.С помощью функции any проверить содержит ли этот список хотябы одно положительное число.\n",
    "2.Спомощью функции all проверить состоят ли все элементы списка только из чисел.\n",
    "3.Отсортировать список с помощью функции sorted"
   ]
  },
  {
   "cell_type": "code",
   "execution_count": 15,
   "metadata": {},
   "outputs": [
    {
     "name": "stdout",
     "output_type": "stream",
     "text": [
      "[-3.0, -4.0, 'е']\n"
     ]
    }
   ],
   "source": [
    "#генерация пользовательского списка\n",
    "user_list = input().split()\n",
    "for i in range(len(user_list)):\n",
    "    try:\n",
    "        user_list[i] = float(user_list[i])\n",
    "    except:\n",
    "        continue\n",
    "print(user_list)"
   ]
  },
  {
   "cell_type": "code",
   "execution_count": 16,
   "metadata": {},
   "outputs": [
    {
     "name": "stdout",
     "output_type": "stream",
     "text": [
      "[-3.0, -4.0]\n",
      "В пользовательском списке нет положительных чисел\n"
     ]
    }
   ],
   "source": [
    "def is_float(i):\n",
    "    return isinstance(i, float)\n",
    "out_filter = list(filter(is_float, user_list))\n",
    "print(out_filter)\n",
    "if any(i>0 for i in out_filter):\n",
    "    print('В пользовательском списке есть положительные числа')\n",
    "else:\n",
    "    print('В пользовательском списке нет положительных чисел')"
   ]
  }
 ],
 "metadata": {
  "kernelspec": {
   "display_name": "venv",
   "language": "python",
   "name": "python3"
  },
  "language_info": {
   "codemirror_mode": {
    "name": "ipython",
    "version": 3
   },
   "file_extension": ".py",
   "mimetype": "text/x-python",
   "name": "python",
   "nbconvert_exporter": "python",
   "pygments_lexer": "ipython3",
   "version": "3.8.9"
  }
 },
 "nbformat": 4,
 "nbformat_minor": 2
}
