{
 "cells": [
  {
   "cell_type": "code",
   "execution_count": 60,
   "metadata": {},
   "outputs": [],
   "source": [
    "import psycopg2"
   ]
  },
  {
   "cell_type": "code",
   "execution_count": 61,
   "metadata": {},
   "outputs": [],
   "source": [
    "def run_sql_sqripts (file_name, dec=\";\"):\n",
    "    with open(file_name, 'r') as file:\n",
    "        query = file.read()\n",
    "    query = query.split(dec)\n",
    "    conn = psycopg2.connect(dbname=\"firstdb\", user=\"denischeban\", password=\"dengineering\")\n",
    "    cur = conn.cursor()\n",
    "    for q in query:  \n",
    "        try:\n",
    "            cur.execute(q)\n",
    "            conn.commit()\n",
    "        except: \n",
    "            conn.rollback()\n",
    "            continue\n"
   ]
  },
  {
   "cell_type": "code",
   "execution_count": 63,
   "metadata": {},
   "outputs": [],
   "source": [
    "#создание базы\n",
    "run_sql_sqripts (file_name=\"sqlite-sakila-schema.sql\")"
   ]
  },
  {
   "cell_type": "code",
   "execution_count": 65,
   "metadata": {},
   "outputs": [],
   "source": [
    "#заполнение базы данными\n",
    "run_sql_sqripts (file_name=\"sqlite-sakila-insert-data.sql\")"
   ]
  },
  {
   "cell_type": "code",
   "execution_count": 64,
   "metadata": {},
   "outputs": [],
   "source": [
    "#удаление данных из базы (запускать при необходимости)\n",
    "run_sql_sqripts (file_name=\"sqlite-sakila-delete-data.sql\")"
   ]
  },
  {
   "cell_type": "code",
   "execution_count": 62,
   "metadata": {},
   "outputs": [],
   "source": [
    "#удаление базы (запускать при необходимости)\n",
    "run_sql_sqripts (file_name=\"sqlite-sakila-drop-objects.sql\")"
   ]
  }
 ],
 "metadata": {
  "kernelspec": {
   "display_name": "venv",
   "language": "python",
   "name": "python3"
  },
  "language_info": {
   "codemirror_mode": {
    "name": "ipython",
    "version": 3
   },
   "file_extension": ".py",
   "mimetype": "text/x-python",
   "name": "python",
   "nbconvert_exporter": "python",
   "pygments_lexer": "ipython3",
   "version": "3.8.9"
  }
 },
 "nbformat": 4,
 "nbformat_minor": 2
}
