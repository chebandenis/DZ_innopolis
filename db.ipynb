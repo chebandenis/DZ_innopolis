{
 "cells": [
  {
   "cell_type": "markdown",
   "metadata": {},
   "source": [
    "Задача 1 \n",
    "\n",
    "Загрузка данных \n",
    "\n",
    "Данные для задачи загрузить из дополнительных материалов или по ссылке: https://www.kaggle.com/datasets/atanaskanev/sqlite-sakila-sample-database?select=SQLite3+Sakila+Sample+Database+ERD.png Выбрать СУБД PostgreSQL илиMySQL. Загрузить файлы базы данных как таблицы в выбранную СУБД. При загрузке таблиц обратить внимание на отношения между таблицами: первичные ключи (PrimaryKey) и внешние ключи (ForeignKey). После загрузки данных в таблицу проверить корректность типов данных и значений. Выгрузить dump базы данных."
   ]
  },
  {
   "cell_type": "code",
   "execution_count": 51,
   "metadata": {},
   "outputs": [],
   "source": [
    "#импорт необходимых для работы библиотек\n",
    "import psycopg2\n",
    "import os\n",
    "import pandas as pd\n",
    "import matplotlib.pyplot as plt"
   ]
  },
  {
   "cell_type": "code",
   "execution_count": 9,
   "metadata": {},
   "outputs": [],
   "source": [
    "#функция исполнения sql скрипта из файла\n",
    "\n",
    "#исходные sql файлы скачанные с kaggle были мной отредактированны, двоичный тим даннх sqllite \n",
    "# одного из полей был заменен на двоичный тип postgresql bytea, также из файлов были удалены \n",
    "# лишние sql которые не нужны для выполнения задания (создание представлений запросов и \n",
    "# заполнение значений по умолчанию с помощью триггеров), также пришлось поменять последовательность \n",
    "# выполнения оставшихся скриптов\n",
    "\n",
    "def run_sql_sqripts (file_name, dec=\";\"):\n",
    "    with open(file_name, 'r') as file:\n",
    "        query = file.read()\n",
    "    query = query.split(dec)\n",
    "    conn = psycopg2.connect(dbname=\"firstdb\", user=\"denischeban\", password=\"dengineering\")\n",
    "    cur = conn.cursor()\n",
    "    for q in query:  \n",
    "        try:\n",
    "            cur.execute(q)\n",
    "            conn.commit()\n",
    "        except: \n",
    "            conn.rollback()\n",
    "            continue\n",
    "    cur.close()\n",
    "    conn.close()\n",
    "    file.close()\n"
   ]
  },
  {
   "cell_type": "code",
   "execution_count": 63,
   "metadata": {},
   "outputs": [],
   "source": [
    "#создание базы\n",
    "run_sql_sqripts (file_name=\"sqlite-sakila-schema.sql\")"
   ]
  },
  {
   "cell_type": "code",
   "execution_count": 7,
   "metadata": {},
   "outputs": [],
   "source": [
    "#заполнение базы данными\n",
    "run_sql_sqripts (file_name=\"sqlite-sakila-insert-data.sql\")"
   ]
  },
  {
   "cell_type": "code",
   "execution_count": 3,
   "metadata": {},
   "outputs": [
    {
     "data": {
      "text/plain": [
       "0"
      ]
     },
     "execution_count": 3,
     "metadata": {},
     "output_type": "execute_result"
    }
   ],
   "source": [
    "#создание резервной копии базы\n",
    "damp_comand = \"pg_dump -U denischeban firstdb > /Users/denischeban/python/innopolys_projects/project_1/firstdb.dump\"\n",
    "os.system(damp_comand)"
   ]
  },
  {
   "cell_type": "code",
   "execution_count": null,
   "metadata": {},
   "outputs": [],
   "source": [
    "#удаление данных из базы (запускать при необходимости, перед запуском раскоментировать код)\n",
    "#run_sql_sqripts (file_name=\"sqlite-sakila-delete-data.sql\")"
   ]
  },
  {
   "cell_type": "code",
   "execution_count": null,
   "metadata": {},
   "outputs": [],
   "source": [
    "#удаление базы (запускать при необходимости, перед запуском раскоментировать код)\n",
    "#run_sql_sqripts (file_name=\"sqlite-sakila-drop-objects.sql\")"
   ]
  },
  {
   "cell_type": "markdown",
   "metadata": {},
   "source": [
    "Задача 2 \n",
    "\n",
    "Подключение к БД и выполнение запросов\n",
    "\n",
    "Внимательно изучить схему данных и загруженную базу из Задания1. Сформировать 1 или несколько классов по таблицам в базе данных.Подключиться к базе данных, загруженной в задаче 1 из python. При подключении рекомендуется использовать менеджер контекста. Выполнить запросы к данным для ответа на следующие вопросы и выгрузить в промежуточные таблицы: \n",
    "\n",
    "1. Какова доля фильмов в каждой рейтинговой категории (G,PG,PG-13,Rит.д.) в нашем ассортименте ?\n",
    "\n",
    "2. Какие категории фильмов чаще всего арендуются клиентами?\n",
    "\n",
    "3. Какова средняя продолжительность проката (rentalduration) для каждой категории фильмов? \n",
    "\n",
    "4. Каковы тенденции в ежемесячном доходе от проката (monthlyrentalrevenue) и продажах (sales) за прошедший год?\n",
    "\n",
    "5. Как соотносятся показатели продаж в разных магазинах? \n",
    "\n",
    "6. Каковы средние затраты на замену (replacement_cost) фильмов в разных жанрах?\n",
    "\n",
    "7. Какие актеры снимаются в самых разных жанрах фильмов? \n",
    "\n",
    "Результат выполненияз апросов сохранить в файлах.csv. Построить визуализации результатов запросов спомощью библиотек matplotlib,seaborn или plotl"
   ]
  },
  {
   "cell_type": "code",
   "execution_count": 19,
   "metadata": {},
   "outputs": [],
   "source": [
    "#функция преобразующая результат sql запроса в датафрейм pandas\n",
    "def sql_to_dataframe(query):\n",
    "    conn = psycopg2.connect(dbname=\"firstdb\", user=\"denischeban\", password=\"dengineering\")\n",
    "    try:\n",
    "        with conn.cursor() as cursor:\n",
    "            df = pd.read_sql(query, conn, ) \n",
    "    finally:\n",
    "        conn.close()\n",
    "    return df"
   ]
  },
  {
   "cell_type": "markdown",
   "metadata": {},
   "source": [
    "1. Какова доля фильмов в каждой рейтинговой категории (G,PG,PG-13,Rит.д.) в нашем ассортименте ?"
   ]
  },
  {
   "cell_type": "code",
   "execution_count": null,
   "metadata": {},
   "outputs": [
    {
     "name": "stdout",
     "output_type": "stream",
     "text": [
      "rating\n",
      "G        178\n",
      "NC-17    210\n",
      "PG       194\n",
      "PG-13    223\n",
      "R        195\n",
      "Name: rating, dtype: int64\n"
     ]
    },
    {
     "name": "stderr",
     "output_type": "stream",
     "text": [
      "/var/folders/2x/1_8vzn5j1d5261pbvlmhrkdm0000gn/T/ipykernel_54003/1777515844.py:6: UserWarning: pandas only supports SQLAlchemy connectable (engine/connection) or database string URI or sqlite3 DBAPI2 connection. Other DBAPI2 objects are not tested. Please consider using SQLAlchemy.\n",
      "  df = pd.read_sql(query, conn, )\n"
     ]
    }
   ],
   "source": [
    "df = sql_to_dataframe('SELECT rating FROM film') #сформируем датафрейм по результатам sql запроса\n",
    "df = df.groupby('rating')['rating'].count() #сгруппируем данные по рейтингу фильма\n",
    "print(df) # выведем на экран количество фильмов по каждой рейтинговой категории\n",
    "df.to_csv('rating_count.csv', sep=',', encoding='utf-8') #сохраним данные в файл"
   ]
  },
  {
   "cell_type": "code",
   "execution_count": 57,
   "metadata": {},
   "outputs": [
    {
     "data": {
      "image/png": "[encoded data removed]",
      "text/plain": [
       "<Figure size 640x480 with 1 Axes>"
      ]
     },
     "metadata": {},
     "output_type": "display_data"
    }
   ],
   "source": [
    "#выведем на экран круговую диаграмму с процентными долями фильмов в каждой рейтинговой категории в нашем ассортименте\n",
    "df.plot.pie(y='rating', autopct='%1.1f%%', startangle=90)\n",
    "plt.axis('equal')\n",
    "plt.show()\n"
   ]
  },
  {
   "cell_type": "markdown",
   "metadata": {},
   "source": [
    "2. Какие категории фильмов чаще всего арендуются клиентами?"
   ]
  },
  {
   "cell_type": "code",
   "execution_count": 65,
   "metadata": {},
   "outputs": [
    {
     "name": "stdout",
     "output_type": "stream",
     "text": [
      "rating\n",
      "PG-13    223\n",
      "NC-17    210\n",
      "R        195\n",
      "PG       194\n",
      "G        178\n",
      "Name: rating, dtype: int64\n"
     ]
    }
   ],
   "source": [
    "print(df.sort_values(ascending=False)) #отсортируем данные \n",
    "df.to_csv('rating_count_sorted.csv', sep=',', encoding='utf-8') #сохраним данные в файл"
   ]
  },
  {
   "cell_type": "markdown",
   "metadata": {},
   "source": [
    "Чаще  всего арендуются фильмы с рейтингом PG-13"
   ]
  },
  {
   "cell_type": "markdown",
   "metadata": {},
   "source": [
    "3. Какова средняя продолжительность проката (rentalduration) для каждой категории фильмов?"
   ]
  },
  {
   "cell_type": "code",
   "execution_count": 93,
   "metadata": {},
   "outputs": [
    {
     "name": "stderr",
     "output_type": "stream",
     "text": [
      "/var/folders/2x/1_8vzn5j1d5261pbvlmhrkdm0000gn/T/ipykernel_54003/1777515844.py:6: UserWarning: pandas only supports SQLAlchemy connectable (engine/connection) or database string URI or sqlite3 DBAPI2 connection. Other DBAPI2 objects are not tested. Please consider using SQLAlchemy.\n",
      "  df = pd.read_sql(query, conn, )\n"
     ]
    }
   ],
   "source": [
    "df_1 = sql_to_dataframe('SELECT category_id, name FROM category') #сформируем датафрейм по результатам sql запроса\n",
    "df_2 = sql_to_dataframe('SELECT film_id, category_id FROM film_category') #сформируем датафрейм по результатам sql запроса\n",
    "df_3 = sql_to_dataframe('SELECT film_id, rental_duration FROM film') #сформируем датафрейм по результатам sql запроса\n",
    "df_2 = df_2.merge(df_3, on='film_id') #объеденим таблицы\n",
    "df_2 = df_2.merge(df_1, on='category_id') #объеденим таблицы\n",
    "#сгруппируем данные по категориям фильма рассчитав среднюю продолжительность проката для каждой категории\n",
    "df_2 = df_2.groupby('name')['rental_duration'].mean() \n",
    "df_2.to_csv('rentalduration_in_filmcategory.csv', sep=',', encoding='utf-8') #сохраним данные в файл"
   ]
  },
  {
   "cell_type": "code",
   "execution_count": 94,
   "metadata": {},
   "outputs": [
    {
     "name": "stdout",
     "output_type": "stream",
     "text": [
      "name\n",
      "Action         4.953125\n",
      "Animation      4.893939\n",
      "Children       5.033333\n",
      "Classics       5.070175\n",
      "Comedy         4.931034\n",
      "Documentary    4.764706\n",
      "Drama          5.080645\n",
      "Family         5.173913\n",
      "Foreign        5.109589\n",
      "Games          5.065574\n",
      "Horror         4.857143\n",
      "Music          5.235294\n",
      "New            4.746032\n",
      "Sci-Fi         4.885246\n",
      "Sports         4.716216\n",
      "Travel         5.350877\n",
      "Name: rental_duration, dtype: float64\n"
     ]
    }
   ],
   "source": [
    "print(df_2)"
   ]
  },
  {
   "cell_type": "code",
   "execution_count": 100,
   "metadata": {},
   "outputs": [
    {
     "data": {
      "text/plain": [
       "<Axes: xlabel='Категория фильма', ylabel='Средняя продолжительность аренды'>"
      ]
     },
     "execution_count": 100,
     "metadata": {},
     "output_type": "execute_result"
    },
    {
     "data": {
      "image/png": "[encoded data removed]",
      "text/plain": [
       "<Figure size 640x480 with 1 Axes>"
      ]
     },
     "metadata": {},
     "output_type": "display_data"
    }
   ],
   "source": [
    "df_2.plot.bar(xlabel='Категория фильма', ylabel='Средняя продолжительность аренды')"
   ]
  },
  {
   "cell_type": "markdown",
   "metadata": {},
   "source": [
    "4. Каковы тенденции в ежемесячном доходе от проката (monthlyrentalrevenue) и продажах (sales) за прошедший год?"
   ]
  },
  {
   "cell_type": "code",
   "execution_count": null,
   "metadata": {},
   "outputs": [],
   "source": []
  }
 ],
 "metadata": {
  "kernelspec": {
   "display_name": "venv",
   "language": "python",
   "name": "python3"
  },
  "language_info": {
   "codemirror_mode": {
    "name": "ipython",
    "version": 3
   },
   "file_extension": ".py",
   "mimetype": "text/x-python",
   "name": "python",
   "nbconvert_exporter": "python",
   "pygments_lexer": "ipython3",
   "version": "3.8.9"
  }
 },
 "nbformat": 4,
 "nbformat_minor": 2
}
