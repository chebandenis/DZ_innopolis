{
 "cells": [
  {
   "cell_type": "code",
   "execution_count": 84,
   "metadata": {},
   "outputs": [],
   "source": [
    "import psycopg2\n",
    "\n",
    "with open('sqlite-sakila-schema.sql', 'r') as file:\n",
    "    query = file.read()\n",
    "\n",
    "query = query.split(\";\")\n",
    "\n",
    "    \n",
    "conn = psycopg2.connect(dbname=\"firstdb\", user=\"denischeban\", password=\"dengineering\")\n",
    "cur = conn.cursor()\n",
    "for q in query:  \n",
    "    try:\n",
    "        cur.execute(q+\";\")\n",
    "        conn.commit()\n",
    "    except: continue\n",
    "\n",
    "\n",
    "\n",
    "file.close()\n",
    "\n",
    "with open(\"sqlite-sakila-insert-data.sql\", 'r') as file:\n",
    "    query = file.read()\n",
    "\n",
    "query = query.split(\";\")\n",
    "for q in query:  \n",
    "    try:\n",
    "        cur.execute(q+\";\")\n",
    "        conn.commit()\n",
    "    except: continue\n",
    "\n",
    "\n",
    "\n",
    "\n",
    "cur.close()\n",
    "conn.close()\n",
    "file.close()"
   ]
  },
  {
   "cell_type": "code",
   "execution_count": null,
   "metadata": {},
   "outputs": [],
   "source": []
  }
 ],
 "metadata": {
  "kernelspec": {
   "display_name": "venv",
   "language": "python",
   "name": "python3"
  },
  "language_info": {
   "codemirror_mode": {
    "name": "ipython",
    "version": 3
   },
   "file_extension": ".py",
   "mimetype": "text/x-python",
   "name": "python",
   "nbconvert_exporter": "python",
   "pygments_lexer": "ipython3",
   "version": "3.8.9"
  }
 },
 "nbformat": 4,
 "nbformat_minor": 2
}
