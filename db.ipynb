{
 "cells": [
  {
   "cell_type": "markdown",
   "metadata": {},
   "source": [
    "Задача 1 \n",
    "\n",
    "Загрузка данных \n",
    "\n",
    "Данные для задачи загрузить из дополнительных материалов или по ссылке: https://www.kaggle.com/datasets/atanaskanev/sqlite-sakila-sample-database?select=SQLite3+Sakila+Sample+Database+ERD.png Выбрать СУБД PostgreSQL илиMySQL. Загрузить файлы базы данных как таблицы в выбранную СУБД. При загрузке таблиц обратить внимание на отношения между таблицами: первичные ключи (PrimaryKey) и внешние ключи (ForeignKey). После загрузки данных в таблицу проверить корректность типов данных и значений. Выгрузить dump базы данных."
   ]
  },
  {
   "cell_type": "code",
   "execution_count": 2,
   "metadata": {},
   "outputs": [],
   "source": [
    "#импорт необходимых для работы библиотек\n",
    "import psycopg2\n",
    "import os"
   ]
  },
  {
   "cell_type": "code",
   "execution_count": 61,
   "metadata": {},
   "outputs": [],
   "source": [
    "#функция исполнения sql скрипта из файла\n",
    "\n",
    "#исходные sql файлы скачанные с kaggle были мной отредактированны, двоичный тим даннх sqllite \n",
    "# одного из полей был заменен на двоичный тип postgresql bytea, также из файлов были удалены \n",
    "# лишние sql которые не нужны для выполнения задания (создание представлений запросов и \n",
    "# заполнение значений по умолчанию с помощью триггеров)\n",
    "\n",
    "def run_sql_sqripts (file_name, dec=\";\"):\n",
    "    with open(file_name, 'r') as file:\n",
    "        query = file.read()\n",
    "    query = query.split(dec)\n",
    "    conn = psycopg2.connect(dbname=\"firstdb\", user=\"denischeban\", password=\"dengineering\")\n",
    "    cur = conn.cursor()\n",
    "    for q in query:  \n",
    "        try:\n",
    "            cur.execute(q)\n",
    "            conn.commit()\n",
    "        except: \n",
    "            conn.rollback()\n",
    "            continue\n"
   ]
  },
  {
   "cell_type": "code",
   "execution_count": 63,
   "metadata": {},
   "outputs": [],
   "source": [
    "#создание базы\n",
    "run_sql_sqripts (file_name=\"sqlite-sakila-schema.sql\")"
   ]
  },
  {
   "cell_type": "code",
   "execution_count": 65,
   "metadata": {},
   "outputs": [],
   "source": [
    "#заполнение базы данными\n",
    "run_sql_sqripts (file_name=\"sqlite-sakila-insert-data.sql\")"
   ]
  },
  {
   "cell_type": "code",
   "execution_count": 3,
   "metadata": {},
   "outputs": [
    {
     "data": {
      "text/plain": [
       "0"
      ]
     },
     "execution_count": 3,
     "metadata": {},
     "output_type": "execute_result"
    }
   ],
   "source": [
    "#создание резервной копии базы\n",
    "damp_comand = \"pg_dump -U denischeban firstdb > /Users/denischeban/python/innopolys_projects/project_1/firstdb.dump\"\n",
    "os.system(damp_comand)"
   ]
  },
  {
   "cell_type": "code",
   "execution_count": 64,
   "metadata": {},
   "outputs": [],
   "source": [
    "#удаление данных из базы (запускать при необходимости)\n",
    "run_sql_sqripts (file_name=\"sqlite-sakila-delete-data.sql\")"
   ]
  },
  {
   "cell_type": "code",
   "execution_count": 62,
   "metadata": {},
   "outputs": [],
   "source": [
    "#удаление базы (запускать при необходимости)\n",
    "run_sql_sqripts (file_name=\"sqlite-sakila-drop-objects.sql\")"
   ]
  }
 ],
 "metadata": {
  "kernelspec": {
   "display_name": "venv",
   "language": "python",
   "name": "python3"
  },
  "language_info": {
   "codemirror_mode": {
    "name": "ipython",
    "version": 3
   },
   "file_extension": ".py",
   "mimetype": "text/x-python",
   "name": "python",
   "nbconvert_exporter": "python",
   "pygments_lexer": "ipython3",
   "version": "3.8.9"
  }
 },
 "nbformat": 4,
 "nbformat_minor": 2
}
